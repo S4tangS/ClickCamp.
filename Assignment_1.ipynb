{
  "nbformat": 4,
  "nbformat_minor": 0,
  "metadata": {
    "colab": {
      "provenance": [],
      "include_colab_link": true
    },
    "kernelspec": {
      "name": "python3",
      "display_name": "Python 3"
    },
    "language_info": {
      "name": "python"
    }
  },
  "cells": [
    {
      "cell_type": "markdown",
      "metadata": {
        "id": "view-in-github",
        "colab_type": "text"
      },
      "source": [
        "<a href=\"https://colab.research.google.com/github/S4tangS/ClickCamp./blob/main/Assignment_1.ipynb\" target=\"_parent\"><img src=\"https://colab.research.google.com/assets/colab-badge.svg\" alt=\"Open In Colab\"/></a>"
      ]
    },
    {
      "cell_type": "code",
      "execution_count": 4,
      "metadata": {
        "colab": {
          "base_uri": "https://localhost:8080/"
        },
        "id": "HumKRtDsug8f",
        "outputId": "91f3361e-9731-4dec-89ee-685ea78031a6"
      },
      "outputs": [
        {
          "output_type": "stream",
          "name": "stdout",
          "text": [
            "Predicted price for 1800 sqft house = THB2620000.00\n"
          ]
        },
        {
          "output_type": "stream",
          "name": "stderr",
          "text": [
            "/usr/local/lib/python3.12/dist-packages/sklearn/utils/validation.py:2739: UserWarning: X does not have valid feature names, but LinearRegression was fitted with feature names\n",
            "  warnings.warn(\n"
          ]
        }
      ],
      "source": [
        "import pandas as pd\n",
        "from sklearn.linear_model import LinearRegression\n",
        "\n",
        "# Sample dataset\n",
        "data = {'Size (sqft)': [500, 1000, 1500, 2000, 2500],\n",
        "        'Price (THB 10000s)': [150, 200, 250, 280, 310]}\n",
        "df = pd.DataFrame(data)\n",
        "\n",
        "X = df[['Size (sqft)']]\n",
        "y = df['Price (THB 10000s)']\n",
        "\n",
        "model = LinearRegression().fit(X, y)\n",
        "\n",
        "# Predict\n",
        "size = 1800\n",
        "\n",
        "print(f\"Predicted price for {size} sqft house = THB{model.predict([[size]])[0]*10000:.2f}\")\n"
      ]
    }
  ]
}